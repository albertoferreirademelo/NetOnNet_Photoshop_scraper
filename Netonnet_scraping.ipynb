{
 "cells": [
  {
   "cell_type": "code",
   "execution_count": 1,
   "id": "legendary-union",
   "metadata": {},
   "outputs": [],
   "source": [
    "from bs4 import BeautifulSoup\n",
    "import requests\n",
    "import re\n",
    "from os import path\n",
    "import os\n",
    "\n",
    "import photoshop.api as ps\n",
    "from photoshop import Session\n",
    "import win32com.client\n",
    "\n",
    "import time"
   ]
  },
  {
   "cell_type": "code",
   "execution_count": 2,
   "id": "amino-commitment",
   "metadata": {},
   "outputs": [],
   "source": [
    "def download_img_website(link):\n",
    "    response = requests.get(link)\n",
    "    file = open(path.basename(link), \"wb\")\n",
    "    file.write(response.content)\n",
    "    file.close()"
   ]
  },
  {
   "cell_type": "code",
   "execution_count": 3,
   "id": "painful-sight",
   "metadata": {},
   "outputs": [],
   "source": [
    "def netonnet_website(id):\n",
    "    website = requests.get('http://netonnet.se/i/'+str(id))    \n",
    "    soup = BeautifulSoup(website.content, 'html.parser', from_encoding='utf-8')\n",
    "    \n",
    "    rubrik = soup.h2.text\n",
    "    \n",
    "    pris = soup.find(class_='price-big').text\n",
    "    pris = pris.strip()\n",
    "    \n",
    "    artikel = soup.find('div', class_='subTitle big').h1.text\n",
    "    \n",
    "    uspar = soup.find('div', class_='product-usps').ul.text    \n",
    "    usparclean = uspar.strip()\n",
    "    usparclean = usparclean.split('\\n')    \n",
    "    \n",
    "    \n",
    "    #print (\"rubrik: \"+rubrik)\n",
    "    #print (\"pris: \"+pris)\n",
    "    #print (\"artikel: \"+artikel)\n",
    "    #print (\"Uspar: %s\" % usparclean)\n",
    "    \n",
    "    bildlink = soup.find(class_='productImage')\n",
    "    \n",
    "    bild = r\"http://netonnet.se/%s\" % bildlink.get(\"src\")\n",
    "    bildnamn = path.basename(bild)\n",
    "    \n",
    "    download_img_website(bild)\n",
    "        \n",
    "    #print (\"Bild downloaded: %s\" % bildnamn)\n",
    "\n",
    "    return [rubrik, pris, artikel, usparclean, bildnamn]"
   ]
  },
  {
   "cell_type": "code",
   "execution_count": 4,
   "id": "norwegian-charger",
   "metadata": {},
   "outputs": [],
   "source": [
    "def import_picture_to_ps(file_path):\n",
    "    with Session() as pss:\n",
    "        desc = pss.ActionDescriptor\n",
    "        desc.putPath(pss.app.charIDToTypeID(\"null\"), file_path)\n",
    "        event_id = pss.app.charIDToTypeID(\"Plc \")  # `Plc` need one space in here.        \n",
    "        pss.app.executeAction(pss.app.charIDToTypeID(\"Plc \"), desc)"
   ]
  },
  {
   "cell_type": "code",
   "execution_count": 5,
   "id": "comfortable-monte",
   "metadata": {},
   "outputs": [],
   "source": [
    "def import_text_to_ps(text_list):    \n",
    "    if type(text_list) is list:\n",
    "        for item in text_list[0:2]:\n",
    "            with Session() as pss:\n",
    "                doc = pss.active_document\n",
    "                text_color = pss.SolidColor()\n",
    "                text_color.rgb.red = 0\n",
    "                text_color.rgb.green = 0\n",
    "                text_color.rgb.blue = 0\n",
    "                new_text_layer = doc.artLayers.add()\n",
    "                new_text_layer.kind = pss.LayerKind.TextLayer\n",
    "                new_text_layer.textItem.contents = item\n",
    "                new_text_layer.textItem.position = [160, 167]\n",
    "                new_text_layer.textItem.size = 40\n",
    "                new_text_layer.textItem.color = text_color\n",
    "                assert new_text_layer.textItem.color.rgb.red == text_color.rgb.red\n",
    "    else:\n",
    "        with Session() as pss:\n",
    "            doc = pss.active_document\n",
    "            text_color = pss.SolidColor()\n",
    "            text_color.rgb.red = 0\n",
    "            text_color.rgb.green = 0\n",
    "            text_color.rgb.blue = 0\n",
    "            new_text_layer = doc.artLayers.add()\n",
    "            new_text_layer.kind = pss.LayerKind.TextLayer\n",
    "            new_text_layer.textItem.contents = text_list\n",
    "            new_text_layer.textItem.position = [160, 167]\n",
    "            new_text_layer.textItem.size = 40\n",
    "            new_text_layer.textItem.color = text_color\n",
    "            assert new_text_layer.textItem.color.rgb.red == text_color.rgb.red"
   ]
  },
  {
   "cell_type": "code",
   "execution_count": 6,
   "id": "impressive-receptor",
   "metadata": {},
   "outputs": [],
   "source": [
    "def import_to_ps(item_id):\n",
    "    all_the_list = netonnet_website(item_id)\n",
    "    ROOT_DIR = path.abspath(os.curdir)\n",
    "    bild_file =  ROOT_DIR+r\"\\%s\" % all_the_list[-1]\n",
    "    app = ps.Application()\n",
    "    doc = app.documents.add(977, 415)\n",
    "    \n",
    "    import_picture_to_ps(bild_file) #fel bild just nu!\n",
    "    \n",
    "    for i in all_the_list[0:4]:\n",
    "        import_text_to_ps(i)"
   ]
  },
  {
   "cell_type": "code",
   "execution_count": null,
   "id": "progressive-riverside",
   "metadata": {},
   "outputs": [],
   "source": []
  },
  {
   "cell_type": "code",
   "execution_count": 7,
   "id": "naughty-anthropology",
   "metadata": {},
   "outputs": [],
   "source": [
    "#netonnet_website(1015891)"
   ]
  },
  {
   "cell_type": "code",
   "execution_count": 8,
   "id": "modified-opportunity",
   "metadata": {},
   "outputs": [],
   "source": [
    "#import_to_ps(1013353)"
   ]
  },
  {
   "cell_type": "code",
   "execution_count": null,
   "id": "swiss-isolation",
   "metadata": {},
   "outputs": [],
   "source": []
  },
  {
   "cell_type": "code",
   "execution_count": 9,
   "id": "attractive-contrast",
   "metadata": {},
   "outputs": [],
   "source": [
    "#import_to_ps(1015889)"
   ]
  },
  {
   "cell_type": "code",
   "execution_count": null,
   "id": "mounted-drama",
   "metadata": {},
   "outputs": [],
   "source": []
  },
  {
   "cell_type": "code",
   "execution_count": 11,
   "id": "frozen-beaver",
   "metadata": {},
   "outputs": [],
   "source": [
    "#import_to_ps(1003370)"
   ]
  },
  {
   "cell_type": "code",
   "execution_count": null,
   "id": "relative-durham",
   "metadata": {},
   "outputs": [],
   "source": []
  },
  {
   "cell_type": "code",
   "execution_count": null,
   "id": "scheduled-cancer",
   "metadata": {},
   "outputs": [],
   "source": []
  },
  {
   "cell_type": "code",
   "execution_count": null,
   "id": "polish-cartoon",
   "metadata": {},
   "outputs": [],
   "source": []
  },
  {
   "cell_type": "code",
   "execution_count": null,
   "id": "pursuant-hampshire",
   "metadata": {},
   "outputs": [],
   "source": []
  }
 ],
 "metadata": {
  "kernelspec": {
   "display_name": "Python 3",
   "language": "python",
   "name": "python3"
  },
  "language_info": {
   "codemirror_mode": {
    "name": "ipython",
    "version": 3
   },
   "file_extension": ".py",
   "mimetype": "text/x-python",
   "name": "python",
   "nbconvert_exporter": "python",
   "pygments_lexer": "ipython3",
   "version": "3.9.2"
  }
 },
 "nbformat": 4,
 "nbformat_minor": 5
}
